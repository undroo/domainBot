{
 "cells": [
  {
   "cell_type": "code",
   "execution_count": 25,
   "metadata": {},
   "outputs": [],
   "source": [
    "import streamlit as st\n",
    "import pandas as pd\n",
    "import requests"
   ]
  },
  {
   "cell_type": "code",
   "execution_count": 26,
   "metadata": {},
   "outputs": [],
   "source": [
    "# Set up the API URLs and your API key\n",
    "LISTINGS_API_URL = \"https://api.domain.com.au/v1/listings/residential/_search\"\n",
    "ME_API_URL = \"https://api.domain.com.au/v1/me\"\n",
    "API_KEY = \"key_7bfd0069496455b7970e777462b54e1c\""
   ]
  },
  {
   "cell_type": "code",
   "execution_count": null,
   "metadata": {},
   "outputs": [],
   "source": []
  },
  {
   "cell_type": "code",
   "execution_count": 27,
   "metadata": {},
   "outputs": [],
   "source": [
    "def app():\n",
    "    # Set the page title\n",
    "    st.set_page_config(page_title=\"New Property Listings\")\n",
    "\n",
    "    # Test the connection to the /v1/me API endpoint\n",
    "    headers = {\"X-API-Key\": f\"{API_KEY}\"}\n",
    "    me_response = requests.get(ME_API_URL, headers=headers)\n",
    "    if me_response.status_code != 200:\n",
    "        st.error(\"Error: Unable to connect to the Domain.com.au API.\")\n",
    "        return\n",
    "\n",
    "    # Define the API request payload\n",
    "    payload = {\n",
    "        \"listingType\": \"Sale\",\n",
    "        \"propertyTypes\": [\n",
    "            \"House\",\n",
    "            \"ApartmentUnitFlat\",\n",
    "            \"Townhouse\",\n",
    "            \"VacantLand\",\n",
    "            \"NewApartments\",\n",
    "        ],\n",
    "        \"locations\": [\n",
    "            {\"state\": \"NSW\"},\n",
    "            {\"state\": \"VIC\"},\n",
    "            {\"state\": \"QLD\"},\n",
    "            {\"state\": \"SA\"},\n",
    "            {\"state\": \"WA\"},\n",
    "            {\"state\": \"TAS\"},\n",
    "            {\"state\": \"ACT\"},\n",
    "            {\"state\": \"NT\"},\n",
    "        ],\n",
    "        \"pageSize\": 20,\n",
    "        \"pageNumber\": 1,\n",
    "    }\n",
    "\n",
    "    # Make the API request to retrieve new property listings\n",
    "    listings_response = requests.post(\n",
    "        LISTINGS_API_URL, headers=headers, json=payload\n",
    "    )\n",
    "\n",
    "    # Check if the API request was successful\n",
    "    if listings_response.status_code != 200:\n",
    "        st.error(\"Error: Unable to retrieve new property listings.\")\n",
    "    else:\n",
    "        # Parse the API response\n",
    "        data = listings_response.json()\n",
    "\n",
    "        st.write(data)"
   ]
  },
  {
   "cell_type": "code",
   "execution_count": null,
   "metadata": {},
   "outputs": [],
   "source": []
  }
 ],
 "metadata": {
  "kernelspec": {
   "display_name": "Python 3",
   "language": "python",
   "name": "python3"
  },
  "language_info": {
   "codemirror_mode": {
    "name": "ipython",
    "version": 3
   },
   "file_extension": ".py",
   "mimetype": "text/x-python",
   "name": "python",
   "nbconvert_exporter": "python",
   "pygments_lexer": "ipython3",
   "version": "3.10.6"
  },
  "orig_nbformat": 4,
  "vscode": {
   "interpreter": {
    "hash": "2c31e1d31e05c61b8bafb03ef6c4d1f650a8ebaef842291d4d6f1f79677a4a27"
   }
  }
 },
 "nbformat": 4,
 "nbformat_minor": 2
}
